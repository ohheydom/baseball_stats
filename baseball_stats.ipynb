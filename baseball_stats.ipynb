{
 "cells": [
  {
   "cell_type": "markdown",
   "metadata": {},
   "source": [
    "# Baseball Stats"
   ]
  },
  {
   "cell_type": "markdown",
   "metadata": {},
   "source": [
    "In this notebook, I'll be loading in data from a dataset of Major League Baseball stats found on [Kaggle](https://www.kaggle.com/) and using the pandas library to hopefully find interesting information. The dataset is located [here](https://www.kaggle.com/kaggle/the-history-of-baseball)."
   ]
  },
  {
   "cell_type": "markdown",
   "metadata": {},
   "source": [
    "## Loading libraries and data"
   ]
  },
  {
   "cell_type": "code",
   "execution_count": 7,
   "metadata": {
    "collapsed": false
   },
   "outputs": [],
   "source": [
    "import pandas as pd\n",
    "import numpy as np\n",
    "\n",
    "batting_data = pd.read_csv('baseball/batting.csv').set_index('player_id')\n",
    "player_data = pd.read_csv('baseball/player.csv').set_index('player_id')"
   ]
  },
  {
   "cell_type": "markdown",
   "metadata": {},
   "source": [
    "I'll start with something simple, I'll use pandas to create a pivot table to aggregate each player's seasons and total up the homeruns."
   ]
  },
  {
   "cell_type": "code",
   "execution_count": 4,
   "metadata": {
    "collapsed": false
   },
   "outputs": [
    {
     "name": "stdout",
     "output_type": "stream",
     "text": [
      "player_id\n",
      "bondsba01    762\n",
      "aaronha01    755\n",
      "ruthba01     714\n",
      "rodrial01    687\n",
      "mayswi01     660\n",
      "Name: hr, dtype: float64\n"
     ]
    }
   ],
   "source": [
    "hrs = batting_data.pivot_table(index=batting_data.index, values='hr', aggfunc=sum).sort_values(ascending=False).dropna()\n",
    "print hrs.head()"
   ]
  },
  {
   "cell_type": "markdown",
   "metadata": {},
   "source": [
    "Now let's do something a bit more complicated, let's try to find the players with the highest and lowest homerun to stolen base ratio. I'll only use players with >= 300 homeruns."
   ]
  },
  {
   "cell_type": "code",
   "execution_count": 48,
   "metadata": {
    "collapsed": false
   },
   "outputs": [
    {
     "name": "stdout",
     "output_type": "stream",
     "text": [
      "            hr   sb  hr_to_sb_ratio\n",
      "fieldce01  319    2      159.500000\n",
      "buhneja01  310    6       51.666667\n",
      "konerpa01  439    9       48.777778\n",
      "mcgwima01  583   12       48.583333\n",
      "howarfr01  382    8       47.750000\n",
      "beltrca01  392  311        1.260450\n",
      "baylodo01  338  285        1.185965\n",
      "sandere02  305  304        1.003289\n",
      "finlest01  304  320        0.950000\n",
      "bondsbo01  332  461        0.720174\n"
     ]
    }
   ],
   "source": [
    "sbs = batting_data.pivot_table(index=batting_data.index, values='sb', aggfunc=sum).sort_values(ascending=False).dropna()\n",
    "hrs_sbs = pd.concat((hrs, sbs), axis=1).sort_values('hr', ascending=False)\n",
    "hrs_sbs['hr_to_sb_ratio'] = hrs_sbs['hr'] / hrs_sbs['sb']\n",
    "hr_sb_ratios = hrs_sbs[hrs_sbs['hr'] > 300].sort_values('hr_to_sb_ratio', ascending=False)\n",
    "print pd.concat((hr_sb_ratios.head(), hr_sb_ratios.tail()))"
   ]
  },
  {
   "cell_type": "markdown",
   "metadata": {},
   "source": [
    "And our winner with a whopping 159.5:1 ratio of homeruns to stolen bases is Cecil Fielder. On the opposite end, we have Bobby Bonds with a .72:1 homeruns to stolen base ratio."
   ]
  },
  {
   "cell_type": "markdown",
   "metadata": {
    "collapsed": true
   },
   "source": [
    "I'm going to look at the player data now, which lists information such as birth city, height, weight, handedness, and other details."
   ]
  },
  {
   "cell_type": "markdown",
   "metadata": {},
   "source": [
    "First, what city is home to the largest number of baseball players throughout history??"
   ]
  },
  {
   "cell_type": "code",
   "execution_count": 22,
   "metadata": {
    "collapsed": false
   },
   "outputs": [
    {
     "name": "stdout",
     "output_type": "stream",
     "text": [
      "Chicago         375\n",
      "Philadelphia    355\n",
      "St. Louis       298\n",
      "New York        267\n",
      "Brooklyn        240\n",
      "Name: birth_city, dtype: int64\n"
     ]
    }
   ],
   "source": [
    "print player_data['birth_city'].value_counts().head()"
   ]
  },
  {
   "cell_type": "markdown",
   "metadata": {},
   "source": [
    "Which states are home to the most and least number of baseball players??"
   ]
  },
  {
   "cell_type": "code",
   "execution_count": 39,
   "metadata": {
    "collapsed": false
   },
   "outputs": [
    {
     "name": "stdout",
     "output_type": "stream",
     "text": [
      "CA    2160\n",
      "PA    1417\n",
      "NY    1207\n",
      "IL    1054\n",
      "OH    1035\n",
      "TX     891\n",
      "MA     665\n",
      "MO     604\n",
      "FL     497\n",
      "MI     432\n",
      "NJ     427\n",
      "NC     399\n",
      "IN     373\n",
      "GA     344\n",
      "AL     322\n",
      "MD     309\n",
      "TN     296\n",
      "VA     286\n",
      "KY     281\n",
      "OK     259\n",
      "LA     247\n",
      "WI     244\n",
      "IA     218\n",
      "KS     211\n",
      "CT     204\n",
      "MS     200\n",
      "WA     195\n",
      "SC     183\n",
      "MN     165\n",
      "AR     152\n",
      "OR     127\n",
      "WV     120\n",
      "NE     113\n",
      "DC     102\n",
      "AZ      99\n",
      "CO      89\n",
      "RI      78\n",
      "ME      78\n",
      "DE      54\n",
      "NH      53\n",
      "HI      40\n",
      "UT      39\n",
      "VT      38\n",
      "SD      38\n",
      "NV      36\n",
      "ID      29\n",
      "NM      28\n",
      "MT      24\n",
      "ND      16\n",
      "WY      15\n",
      "AK      11\n",
      "Name: birth_state, dtype: int64\n"
     ]
    }
   ],
   "source": [
    "print player_data[player_data['birth_country'] == 'USA']['birth_state'].value_counts()"
   ]
  },
  {
   "cell_type": "markdown",
   "metadata": {},
   "source": [
    "This all makes sense. According to the [2014 census data](https://simple.wikipedia.org/wiki/List_of_U.S._states_by_population), California has largest population in the United States while Alaska is in the bottom 5."
   ]
  },
  {
   "cell_type": "code",
   "execution_count": null,
   "metadata": {
    "collapsed": true
   },
   "outputs": [],
   "source": []
  }
 ],
 "metadata": {
  "kernelspec": {
   "display_name": "Python 2",
   "language": "python",
   "name": "python2"
  },
  "language_info": {
   "codemirror_mode": {
    "name": "ipython",
    "version": 2
   },
   "file_extension": ".py",
   "mimetype": "text/x-python",
   "name": "python",
   "nbconvert_exporter": "python",
   "pygments_lexer": "ipython2",
   "version": "2.7.10"
  }
 },
 "nbformat": 4,
 "nbformat_minor": 0
}
