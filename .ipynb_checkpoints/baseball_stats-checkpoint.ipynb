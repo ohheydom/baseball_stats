{
 "cells": [
  {
   "cell_type": "markdown",
   "metadata": {},
   "source": [
    "# Baseball Stats"
   ]
  },
  {
   "cell_type": "markdown",
   "metadata": {},
   "source": [
    "In this notebook, I'll be loading in data from a dataset of Major League Baseball stats found on [Kaggle](https://www.kaggle.com/) and using the pandas library to hopefully find interesting information. The dataset is located [here](https://www.kaggle.com/kaggle/the-history-of-baseball)."
   ]
  },
  {
   "cell_type": "markdown",
   "metadata": {},
   "source": [
    "## Loading libraries and data"
   ]
  },
  {
   "cell_type": "code",
   "execution_count": 39,
   "metadata": {
    "collapsed": false
   },
   "outputs": [],
   "source": [
    "import pandas as pd\n",
    "import numpy as np\n",
    "\n",
    "data = pd.read_csv('baseball/batting.csv').set_index('player_id')"
   ]
  },
  {
   "cell_type": "markdown",
   "metadata": {},
   "source": [
    "I'll start with something simple, I'll use pandas to create a pivot table to aggregate each player's seasons and total up the homeruns."
   ]
  },
  {
   "cell_type": "code",
   "execution_count": 89,
   "metadata": {
    "collapsed": false
   },
   "outputs": [
    {
     "name": "stdout",
     "output_type": "stream",
     "text": [
      "player_id\n",
      "bondsba01    762\n",
      "aaronha01    755\n",
      "ruthba01     714\n",
      "rodrial01    687\n",
      "mayswi01     660\n",
      "Name: hr, dtype: float64\n"
     ]
    }
   ],
   "source": [
    "hrs = data.pivot_table(index=data.index, values='hr', aggfunc=sum).sort_values(ascending=False).dropna()\n",
    "print hrs.head()"
   ]
  },
  {
   "cell_type": "markdown",
   "metadata": {},
   "source": [
    "Now let's do something a bit more complicated, let's try to find the players with the highest and lowest homerun to stolen base ratio. I'll only use players with >= 300 homeruns."
   ]
  },
  {
   "cell_type": "code",
   "execution_count": 100,
   "metadata": {
    "collapsed": false
   },
   "outputs": [
    {
     "name": "stdout",
     "output_type": "stream",
     "text": [
      "            hr   sb  hr_to_sb_ratio\n",
      "fieldce01  319    2      159.500000\n",
      "buhneja01  310    6       51.666667\n",
      "konerpa01  439    9       48.777778\n",
      "mcgwima01  583   12       48.583333\n",
      "howarfr01  382    8       47.750000\n",
      "delgaca01  473   14       33.785714\n",
      "ortizda01  503   15       33.533333\n",
      "thomeji01  612   19       32.210526\n",
      "killeha01  573   19       30.157895\n",
      "howarry01  357   12       29.750000\n",
      "stargwi01  475   17       27.941176\n",
      "piazzmi01  427   17       25.117647\n",
      "sievero01  318   14       22.714286\n",
      "giambja01  440   20       22.000000\n",
      "sexsori01  306   14       21.857143\n",
      "willite01  521   24       21.708333\n",
      "mccovwi01  521   26       20.038462\n",
      "colavro01  374   19       19.684211\n",
      "fieldpr01  311   18       17.277778\n",
      "powelbo01  339   20       16.950000\n",
      "adcocjo01  336   20       16.800000\n",
      "kinerra01  369   22       16.772727\n",
      "gonzaju03  434   26       16.692308\n",
      "teixema01  394   24       16.416667\n",
      "thomafr04  521   32       16.281250\n",
      "hortowi01  325   20       16.250000\n",
      "ramirma02  555   38       14.605263\n",
      "ramirar01  386   29       13.310345\n",
      "ceyro01    316   24       13.166667\n",
      "mizejo01   359   28       12.821429\n",
      "...        ...  ...             ...\n",
      "murphda05  398  161        2.472050\n",
      "jacksre01  563  228        2.469298\n",
      "davisch01  350  142        2.464789\n",
      "rodriiv01  311  127        2.448819\n",
      "cansejo01  462  200        2.310000\n",
      "smithre06  314  137        2.291971\n",
      "hornsro01  301  135        2.229630\n",
      "bagweje01  449  202        2.222772\n",
      "parkeda01  339  154        2.201299\n",
      "sierrru01  306  142        2.154930\n",
      "rodrial01  687  326        2.107362\n",
      "winfida01  465  223        2.085202\n",
      "greensh01  328  162        2.024691\n",
      "sheffga01  509  253        2.011858\n",
      "mayswi01   660  338        1.952663\n",
      "burksel01  352  181        1.944751\n",
      "hunteto01  353  195        1.810256\n",
      "cartejo01  396  231        1.714286\n",
      "walkela01  383  230        1.665217\n",
      "brettge01  317  201        1.577114\n",
      "strawda01  335  221        1.515837\n",
      "bondsba01  762  514        1.482490\n",
      "soriaal01  412  289        1.425606\n",
      "dawsoan01  438  314        1.394904\n",
      "gantro01   321  243        1.320988\n",
      "beltrca01  392  311        1.260450\n",
      "baylodo01  338  285        1.185965\n",
      "sandere02  305  304        1.003289\n",
      "finlest01  304  320        0.950000\n",
      "bondsbo01  332  461        0.720174\n",
      "\n",
      "[137 rows x 3 columns]\n"
     ]
    }
   ],
   "source": [
    "sbs = data.pivot_table(index=data.index, values='sb', aggfunc=sum).sort_values(ascending=False).dropna()\n",
    "hrs_sbs = pd.concat((hrs, sbs), axis=1).sort_values('hr', ascending=False)\n",
    "hrs_sbs['hr_to_sb_ratio'] = hrs_sbs['hr'] / hrs_sbs['sb']\n",
    "print hrs_sbs[hrs_sbs['hr'] > 300].sort_values('hr_to_sb_ratio', ascending=False)"
   ]
  },
  {
   "cell_type": "markdown",
   "metadata": {},
   "source": [
    "And our winner with a whopping 159.5:1 ratio of homeruns to stolen bases is Cecil Fielder. On the opposite end, we have Bobby Bonds with a .72:1 homeruns to stolen base ratio."
   ]
  },
  {
   "cell_type": "markdown",
   "metadata": {},
   "source": [
    "More to come..."
   ]
  },
  {
   "cell_type": "code",
   "execution_count": null,
   "metadata": {
    "collapsed": true
   },
   "outputs": [],
   "source": []
  }
 ],
 "metadata": {
  "kernelspec": {
   "display_name": "Python 2",
   "language": "python",
   "name": "python2"
  },
  "language_info": {
   "codemirror_mode": {
    "name": "ipython",
    "version": 2
   },
   "file_extension": ".py",
   "mimetype": "text/x-python",
   "name": "python",
   "nbconvert_exporter": "python",
   "pygments_lexer": "ipython2",
   "version": "2.7.10"
  }
 },
 "nbformat": 4,
 "nbformat_minor": 0
}
